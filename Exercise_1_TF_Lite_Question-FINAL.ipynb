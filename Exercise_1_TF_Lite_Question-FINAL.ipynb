{
 "cells": [
  {
   "cell_type": "markdown",
   "metadata": {},
   "source": [
    "##### Copyright 2018 The TensorFlow Authors."
   ]
  },
  {
   "cell_type": "code",
   "execution_count": 1,
   "metadata": {},
   "outputs": [],
   "source": [
    "# ATTENTION: Please do not alter any of the provided code in the exercise. Only add your own code where indicated\n",
    "# ATTENTION: Please do not add or remove any cells in the exercise. The grader will check specific cells based on the cell position.\n",
    "# ATTENTION: Please use the provided epoch values when training.\n",
    "\n",
    "# Licensed under the Apache License, Version 2.0 (the \"License\");\n",
    "# you may not use this file except in compliance with the License.\n",
    "# You may obtain a copy of the License at\n",
    "#\n",
    "# https://www.apache.org/licenses/LICENSE-2.0\n",
    "#\n",
    "# Unless required by applicable law or agreed to in writing, software\n",
    "# distributed under the License is distributed on an \"AS IS\" BASIS,\n",
    "# WITHOUT WARRANTIES OR CONDITIONS OF ANY KIND, either express or implied.\n",
    "# See the License for the specific language governing permissions and\n",
    "# limitations under the License."
   ]
  },
  {
   "cell_type": "markdown",
   "metadata": {
    "colab_type": "text",
    "id": "Ka96-ajYzxVU"
   },
   "source": [
    "# Train Your Own Model and Convert It to TFLite\n",
    "\n",
    "This notebook uses the [Fashion MNIST](https://github.com/zalandoresearch/fashion-mnist) dataset which contains 70,000 grayscale images in 10 categories. The images show individual articles of clothing at low resolution (28 by 28 pixels), as seen here:\n",
    "\n",
    "<table>\n",
    "  <tr><td>\n",
    "    <img src=\"https://tensorflow.org/images/fashion-mnist-sprite.png\"\n",
    "         alt=\"Fashion MNIST sprite\"  width=\"600\">\n",
    "  </td></tr>\n",
    "  <tr><td align=\"center\">\n",
    "    <b>Figure 1.</b> <a href=\"https://github.com/zalandoresearch/fashion-mnist\">Fashion-MNIST samples</a> (by Zalando, MIT License).<br/>&nbsp;\n",
    "  </td></tr>\n",
    "</table>\n",
    "\n",
    "Fashion MNIST is intended as a drop-in replacement for the classic [MNIST](http://yann.lecun.com/exdb/mnist/) dataset—often used as the \"Hello, World\" of machine learning programs for computer vision. The MNIST dataset contains images of handwritten digits (0, 1, 2, etc.) in a format identical to that of the articles of clothing we'll use here.\n",
    "\n",
    "This uses Fashion MNIST for variety, and because it's a slightly more challenging problem than regular MNIST. Both datasets are relatively small and are used to verify that an algorithm works as expected. They're good starting points to test and debug code.\n",
    "\n",
    "We will use 60,000 images to train the network and 10,000 images to evaluate how accurately the network learned to classify images. You can access the Fashion MNIST directly from TensorFlow. Import and load the Fashion MNIST data directly from TensorFlow:"
   ]
  },
  {
   "cell_type": "markdown",
   "metadata": {
    "colab_type": "text",
    "id": "rjOAfhgd__Sp"
   },
   "source": [
    "# Setup"
   ]
  },
  {
   "cell_type": "code",
   "execution_count": 1,
   "metadata": {
    "colab": {
     "base_uri": "https://localhost:8080/",
     "height": 34
    },
    "colab_type": "code",
    "id": "pfyZKowNAQ4j",
    "outputId": "8a94ac17-d4e7-474f-e984-a5ed389f5352"
   },
   "outputs": [
    {
     "name": "stdout",
     "output_type": "stream",
     "text": [
      "• Using TensorFlow Version: 2.0.0\n",
      "• GPU Device Found.\n"
     ]
    }
   ],
   "source": [
    "# TensorFlow\n",
    "import tensorflow as tf\n",
    "\n",
    "# TensorFlow Datsets\n",
    "import tensorflow_datasets as tfds\n",
    "tfds.disable_progress_bar()\n",
    "\n",
    "# Helper Libraries\n",
    "import numpy as np\n",
    "import matplotlib.pyplot as plt\n",
    "import pathlib\n",
    "\n",
    "from os import getcwd\n",
    "\n",
    "print('\\u2022 Using TensorFlow Version:', tf.__version__)\n",
    "print('\\u2022 GPU Device Found.' if tf.test.is_gpu_available() else '\\u2022 GPU Device Not Found. Running on CPU')"
   ]
  },
  {
   "cell_type": "code",
   "execution_count": 19,
   "metadata": {},
   "outputs": [
    {
     "name": "stdout",
     "output_type": "stream",
     "text": [
      "['abstract_reasoning', 'aeslc', 'aflw2k3d', 'amazon_us_reviews', 'bair_robot_pushing_small', 'big_patent', 'bigearthnet', 'billsum', 'binarized_mnist', 'binary_alpha_digits', 'c4', 'caltech101', 'caltech_birds2010', 'caltech_birds2011', 'cars196', 'cassava', 'cats_vs_dogs', 'celeb_a', 'celeb_a_hq', 'chexpert', 'cifar10', 'cifar100', 'cifar10_1', 'cifar10_corrupted', 'clevr', 'cmaterdb', 'cnn_dailymail', 'coco', 'coco2014', 'coil100', 'colorectal_histology', 'colorectal_histology_large', 'curated_breast_imaging_ddsm', 'cycle_gan', 'deep_weeds', 'definite_pronoun_resolution', 'diabetic_retinopathy_detection', 'downsampled_imagenet', 'dsprites', 'dtd', 'dummy_dataset_shared_generator', 'dummy_mnist', 'emnist', 'eurosat', 'fashion_mnist', 'flores', 'food101', 'gap', 'gigaword', 'glue', 'groove', 'higgs', 'horses_or_humans', 'image_label_folder', 'imagenet2012', 'imagenet2012_corrupted', 'imagenet_resized', 'imdb_reviews', 'iris', 'kitti', 'kmnist', 'lfw', 'lm1b', 'lsun', 'malaria', 'mnist', 'mnist_corrupted', 'moving_mnist', 'multi_news', 'multi_nli', 'multi_nli_mismatch', 'newsroom', 'nsynth', 'omniglot', 'open_images_v4', 'oxford_flowers102', 'oxford_iiit_pet', 'para_crawl', 'patch_camelyon', 'pet_finder', 'places365_small', 'quickdraw_bitmap', 'reddit_tifu', 'resisc45', 'rock_paper_scissors', 'rock_you', 'scene_parse150', 'scientific_papers', 'shapes3d', 'smallnorb', 'snli', 'so2sat', 'squad', 'stanford_dogs', 'stanford_online_products', 'starcraft_video', 'sun397', 'super_glue', 'svhn_cropped', 'ted_hrlr_translate', 'ted_multi_translate', 'tf_flowers', 'the300w_lp', 'titanic', 'trivia_qa', 'uc_merced', 'ucf101', 'visual_domain_decathlon', 'voc', 'wider_face', 'wikihow', 'wikipedia', 'wmt14_translate', 'wmt15_translate', 'wmt16_translate', 'wmt17_translate', 'wmt18_translate', 'wmt19_translate', 'wmt_t2t_translate', 'wmt_translate', 'xnli', 'xsum']\n",
      "\u001b[1mDownloading and preparing dataset mnist (11.06 MiB) to /root/tensorflow_datasets/mnist/1.0.0...\u001b[0m\n",
      "WARNING:tensorflow:From /usr/local/lib/python3.6/dist-packages/tensorflow_datasets/core/file_format_adapter.py:209: tf_record_iterator (from tensorflow.python.lib.io.tf_record) is deprecated and will be removed in a future version.\n",
      "Instructions for updating:\n",
      "Use eager execution and: \n",
      "`tf.data.TFRecordDataset(path)`\n"
     ]
    },
    {
     "name": "stderr",
     "output_type": "stream",
     "text": [
      "WARNING:tensorflow:From /usr/local/lib/python3.6/dist-packages/tensorflow_datasets/core/file_format_adapter.py:209: tf_record_iterator (from tensorflow.python.lib.io.tf_record) is deprecated and will be removed in a future version.\n",
      "Instructions for updating:\n",
      "Use eager execution and: \n",
      "`tf.data.TFRecordDataset(path)`\n"
     ]
    },
    {
     "name": "stdout",
     "output_type": "stream",
     "text": [
      "\u001b[1mDataset mnist downloaded and prepared to /root/tensorflow_datasets/mnist/1.0.0. Subsequent calls will reuse this data.\u001b[0m\n"
     ]
    }
   ],
   "source": [
    "import tensorflow as tf\n",
    "import tensorflow_datasets as tfds\n",
    "\n",
    "# tfds works in both Eager and Graph modes\n",
    "tf.compat.v1.enable_eager_execution()\n",
    "\n",
    "# See available datasets\n",
    "print(tfds.list_builders())\n",
    "\n",
    "# Construct a tf.data.Dataset\n",
    "dataset = tfds.load(name=\"mnist\", split=tfds.Split.TRAIN)\n",
    "\n",
    "# Build your input pipeline\n",
    "# dataset = dataset.shuffle(1024).batch(32).prefetch(tf.data.experimental.AUTOTUNE)\n",
    "for features in dataset.take(1):\n",
    "  image, label = features[\"image\"], features[\"label\"]"
   ]
  },
  {
   "cell_type": "markdown",
   "metadata": {
    "colab_type": "text",
    "id": "tadPBTEiAprt"
   },
   "source": [
    "# Download Fashion MNIST Dataset\n",
    "\n",
    "We will use TensorFlow Datasets to load the Fashion MNIST dataset. "
   ]
  },
  {
   "cell_type": "code",
   "execution_count": 21,
   "metadata": {
    "colab": {
     "base_uri": "https://localhost:8080/",
     "height": 156
    },
    "colab_type": "code",
    "id": "XcNwi6nFKneZ",
    "outputId": "8e0d8173-6dbd-4ef5-a70b-efc8e9d33802"
   },
   "outputs": [],
   "source": [
    "splits = tfds.Split.ALL.subsplit(weighted=(80, 10, 10))\n",
    "\n",
    "filePath = f\"{getcwd()}/../tmp2/\"\n",
    "splits, info = tfds.load('fashion_mnist', with_info=True, as_supervised=True, split=splits, data_dir=filePath)\n",
    "\n",
    "(train_examples, validation_examples, test_examples) = splits\n",
    "\n",
    "num_examples = info.splits['train'].num_examples\n",
    "num_classes = info.features['label'].num_classes"
   ]
  },
  {
   "cell_type": "code",
   "execution_count": 37,
   "metadata": {},
   "outputs": [
    {
     "name": "stdout",
     "output_type": "stream",
     "text": [
      "tf.Tensor(\n",
      "[[[0.        ]\n",
      "  [0.        ]\n",
      "  [0.        ]\n",
      "  [0.        ]\n",
      "  [0.        ]\n",
      "  [0.        ]\n",
      "  [0.        ]\n",
      "  [0.        ]\n",
      "  [0.        ]\n",
      "  [0.00392157]\n",
      "  [0.        ]\n",
      "  [0.1254902 ]\n",
      "  [0.6745098 ]\n",
      "  [0.5921569 ]\n",
      "  [0.5882353 ]\n",
      "  [0.6901961 ]\n",
      "  [0.21960784]\n",
      "  [0.        ]\n",
      "  [0.00784314]\n",
      "  [0.00392157]\n",
      "  [0.        ]\n",
      "  [0.        ]\n",
      "  [0.        ]\n",
      "  [0.        ]\n",
      "  [0.        ]\n",
      "  [0.        ]\n",
      "  [0.        ]\n",
      "  [0.        ]]\n",
      "\n",
      " [[0.        ]\n",
      "  [0.        ]\n",
      "  [0.        ]\n",
      "  [0.        ]\n",
      "  [0.        ]\n",
      "  [0.        ]\n",
      "  [0.        ]\n",
      "  [0.        ]\n",
      "  [0.        ]\n",
      "  [0.        ]\n",
      "  [0.        ]\n",
      "  [0.43529412]\n",
      "  [0.9882353 ]\n",
      "  [0.827451  ]\n",
      "  [0.8901961 ]\n",
      "  [0.9529412 ]\n",
      "  [0.7176471 ]\n",
      "  [0.        ]\n",
      "  [0.        ]\n",
      "  [0.        ]\n",
      "  [0.        ]\n",
      "  [0.00784314]\n",
      "  [0.        ]\n",
      "  [0.        ]\n",
      "  [0.        ]\n",
      "  [0.        ]\n",
      "  [0.        ]\n",
      "  [0.        ]]\n",
      "\n",
      " [[0.        ]\n",
      "  [0.        ]\n",
      "  [0.        ]\n",
      "  [0.        ]\n",
      "  [0.        ]\n",
      "  [0.00392157]\n",
      "  [0.        ]\n",
      "  [0.        ]\n",
      "  [0.07450981]\n",
      "  [0.30588236]\n",
      "  [0.3882353 ]\n",
      "  [0.43529412]\n",
      "  [0.60784316]\n",
      "  [0.9490196 ]\n",
      "  [1.        ]\n",
      "  [0.7372549 ]\n",
      "  [0.3254902 ]\n",
      "  [0.23921569]\n",
      "  [0.18039216]\n",
      "  [0.00392157]\n",
      "  [0.        ]\n",
      "  [0.        ]\n",
      "  [0.00392157]\n",
      "  [0.        ]\n",
      "  [0.        ]\n",
      "  [0.        ]\n",
      "  [0.        ]\n",
      "  [0.        ]]\n",
      "\n",
      " [[0.        ]\n",
      "  [0.        ]\n",
      "  [0.        ]\n",
      "  [0.        ]\n",
      "  [0.        ]\n",
      "  [0.        ]\n",
      "  [0.03529412]\n",
      "  [0.28627452]\n",
      "  [0.45882353]\n",
      "  [0.52156866]\n",
      "  [0.38431373]\n",
      "  [0.3529412 ]\n",
      "  [0.38039216]\n",
      "  [0.8352941 ]\n",
      "  [0.87058824]\n",
      "  [0.6862745 ]\n",
      "  [0.4627451 ]\n",
      "  [0.33333334]\n",
      "  [0.48235294]\n",
      "  [0.46666667]\n",
      "  [0.19607843]\n",
      "  [0.01568628]\n",
      "  [0.        ]\n",
      "  [0.        ]\n",
      "  [0.        ]\n",
      "  [0.        ]\n",
      "  [0.        ]\n",
      "  [0.        ]]\n",
      "\n",
      " [[0.        ]\n",
      "  [0.        ]\n",
      "  [0.        ]\n",
      "  [0.        ]\n",
      "  [0.        ]\n",
      "  [0.        ]\n",
      "  [0.40392157]\n",
      "  [0.44313726]\n",
      "  [0.38039216]\n",
      "  [0.40392157]\n",
      "  [0.35686275]\n",
      "  [0.38431373]\n",
      "  [0.4862745 ]\n",
      "  [0.34901962]\n",
      "  [0.42745098]\n",
      "  [0.40784314]\n",
      "  [0.56078434]\n",
      "  [0.34117648]\n",
      "  [0.33333334]\n",
      "  [0.3764706 ]\n",
      "  [0.4117647 ]\n",
      "  [0.30588236]\n",
      "  [0.        ]\n",
      "  [0.        ]\n",
      "  [0.        ]\n",
      "  [0.        ]\n",
      "  [0.        ]\n",
      "  [0.        ]]\n",
      "\n",
      " [[0.        ]\n",
      "  [0.        ]\n",
      "  [0.        ]\n",
      "  [0.        ]\n",
      "  [0.        ]\n",
      "  [0.15294118]\n",
      "  [0.54901963]\n",
      "  [0.2784314 ]\n",
      "  [0.34901962]\n",
      "  [0.26666668]\n",
      "  [0.42352942]\n",
      "  [0.3254902 ]\n",
      "  [0.3137255 ]\n",
      "  [0.4392157 ]\n",
      "  [0.3529412 ]\n",
      "  [0.2627451 ]\n",
      "  [0.27450982]\n",
      "  [0.35686275]\n",
      "  [0.23137255]\n",
      "  [0.3254902 ]\n",
      "  [0.28627452]\n",
      "  [0.47058824]\n",
      "  [0.0627451 ]\n",
      "  [0.        ]\n",
      "  [0.        ]\n",
      "  [0.        ]\n",
      "  [0.        ]\n",
      "  [0.        ]]\n",
      "\n",
      " [[0.        ]\n",
      "  [0.        ]\n",
      "  [0.        ]\n",
      "  [0.        ]\n",
      "  [0.        ]\n",
      "  [0.2784314 ]\n",
      "  [0.4862745 ]\n",
      "  [0.4392157 ]\n",
      "  [0.34117648]\n",
      "  [0.3647059 ]\n",
      "  [0.32156864]\n",
      "  [0.3764706 ]\n",
      "  [0.33333334]\n",
      "  [0.4862745 ]\n",
      "  [0.27450982]\n",
      "  [0.30588236]\n",
      "  [0.34901962]\n",
      "  [0.30588236]\n",
      "  [0.3764706 ]\n",
      "  [0.3372549 ]\n",
      "  [0.40392157]\n",
      "  [0.49019608]\n",
      "  [0.22352941]\n",
      "  [0.        ]\n",
      "  [0.        ]\n",
      "  [0.        ]\n",
      "  [0.        ]\n",
      "  [0.        ]]\n",
      "\n",
      " [[0.        ]\n",
      "  [0.        ]\n",
      "  [0.        ]\n",
      "  [0.        ]\n",
      "  [0.        ]\n",
      "  [0.40392157]\n",
      "  [0.40392157]\n",
      "  [0.40392157]\n",
      "  [0.39215687]\n",
      "  [0.39215687]\n",
      "  [0.40784314]\n",
      "  [0.40784314]\n",
      "  [0.3764706 ]\n",
      "  [0.45882353]\n",
      "  [0.2627451 ]\n",
      "  [0.34509805]\n",
      "  [0.38431373]\n",
      "  [0.3764706 ]\n",
      "  [0.34901962]\n",
      "  [0.44313726]\n",
      "  [0.46666667]\n",
      "  [0.3372549 ]\n",
      "  [0.3764706 ]\n",
      "  [0.        ]\n",
      "  [0.        ]\n",
      "  [0.        ]\n",
      "  [0.        ]\n",
      "  [0.        ]]\n",
      "\n",
      " [[0.        ]\n",
      "  [0.        ]\n",
      "  [0.        ]\n",
      "  [0.        ]\n",
      "  [0.        ]\n",
      "  [0.36862746]\n",
      "  [0.4509804 ]\n",
      "  [0.5058824 ]\n",
      "  [0.36078432]\n",
      "  [0.34901962]\n",
      "  [0.40392157]\n",
      "  [0.3372549 ]\n",
      "  [0.29411766]\n",
      "  [0.42745098]\n",
      "  [0.39215687]\n",
      "  [0.29411766]\n",
      "  [0.3764706 ]\n",
      "  [0.36078432]\n",
      "  [0.33333334]\n",
      "  [0.2509804 ]\n",
      "  [0.6039216 ]\n",
      "  [0.3372549 ]\n",
      "  [0.2627451 ]\n",
      "  [0.        ]\n",
      "  [0.        ]\n",
      "  [0.        ]\n",
      "  [0.        ]\n",
      "  [0.        ]]\n",
      "\n",
      " [[0.        ]\n",
      "  [0.        ]\n",
      "  [0.        ]\n",
      "  [0.        ]\n",
      "  [0.        ]\n",
      "  [0.39607844]\n",
      "  [0.4745098 ]\n",
      "  [0.6431373 ]\n",
      "  [0.56078434]\n",
      "  [0.34117648]\n",
      "  [0.31764707]\n",
      "  [0.3529412 ]\n",
      "  [0.29803923]\n",
      "  [0.3764706 ]\n",
      "  [0.34901962]\n",
      "  [0.31764707]\n",
      "  [0.3137255 ]\n",
      "  [0.3254902 ]\n",
      "  [0.1764706 ]\n",
      "  [0.5372549 ]\n",
      "  [0.827451  ]\n",
      "  [0.3019608 ]\n",
      "  [0.3372549 ]\n",
      "  [0.        ]\n",
      "  [0.        ]\n",
      "  [0.        ]\n",
      "  [0.        ]\n",
      "  [0.        ]]\n",
      "\n",
      " [[0.        ]\n",
      "  [0.        ]\n",
      "  [0.        ]\n",
      "  [0.        ]\n",
      "  [0.07843138]\n",
      "  [0.4392157 ]\n",
      "  [0.38431373]\n",
      "  [0.70980394]\n",
      "  [0.6784314 ]\n",
      "  [0.25882354]\n",
      "  [0.42352942]\n",
      "  [0.36862746]\n",
      "  [0.32156864]\n",
      "  [0.40784314]\n",
      "  [0.3254902 ]\n",
      "  [0.30980393]\n",
      "  [0.36078432]\n",
      "  [0.4627451 ]\n",
      "  [0.3019608 ]\n",
      "  [0.65882355]\n",
      "  [0.5529412 ]\n",
      "  [0.2627451 ]\n",
      "  [0.3764706 ]\n",
      "  [0.        ]\n",
      "  [0.        ]\n",
      "  [0.        ]\n",
      "  [0.        ]\n",
      "  [0.        ]]\n",
      "\n",
      " [[0.        ]\n",
      "  [0.        ]\n",
      "  [0.        ]\n",
      "  [0.        ]\n",
      "  [0.13725491]\n",
      "  [0.4745098 ]\n",
      "  [0.3372549 ]\n",
      "  [0.8784314 ]\n",
      "  [0.57254905]\n",
      "  [0.27058825]\n",
      "  [0.45882353]\n",
      "  [0.4862745 ]\n",
      "  [0.3372549 ]\n",
      "  [0.42745098]\n",
      "  [0.41960785]\n",
      "  [0.30588236]\n",
      "  [0.36862746]\n",
      "  [0.3647059 ]\n",
      "  [0.22745098]\n",
      "  [0.6392157 ]\n",
      "  [0.61960787]\n",
      "  [0.3764706 ]\n",
      "  [0.4       ]\n",
      "  [0.00784314]\n",
      "  [0.        ]\n",
      "  [0.        ]\n",
      "  [0.        ]\n",
      "  [0.        ]]\n",
      "\n",
      " [[0.        ]\n",
      "  [0.        ]\n",
      "  [0.        ]\n",
      "  [0.        ]\n",
      "  [0.14901961]\n",
      "  [0.47058824]\n",
      "  [0.29803923]\n",
      "  [0.9098039 ]\n",
      "  [0.56078434]\n",
      "  [0.3254902 ]\n",
      "  [0.43137255]\n",
      "  [0.34901962]\n",
      "  [0.3529412 ]\n",
      "  [0.3529412 ]\n",
      "  [0.42745098]\n",
      "  [0.27058825]\n",
      "  [0.4117647 ]\n",
      "  [0.48235294]\n",
      "  [0.1882353 ]\n",
      "  [0.6745098 ]\n",
      "  [0.42745098]\n",
      "  [0.47058824]\n",
      "  [0.3764706 ]\n",
      "  [0.01176471]\n",
      "  [0.        ]\n",
      "  [0.        ]\n",
      "  [0.        ]\n",
      "  [0.        ]]\n",
      "\n",
      " [[0.        ]\n",
      "  [0.        ]\n",
      "  [0.        ]\n",
      "  [0.        ]\n",
      "  [0.12941177]\n",
      "  [0.49019608]\n",
      "  [0.34117648]\n",
      "  [0.92941177]\n",
      "  [0.5647059 ]\n",
      "  [0.20392157]\n",
      "  [0.49411765]\n",
      "  [0.22352941]\n",
      "  [0.34117648]\n",
      "  [0.38039216]\n",
      "  [0.31764707]\n",
      "  [0.31764707]\n",
      "  [0.47058824]\n",
      "  [0.32156864]\n",
      "  [0.18431373]\n",
      "  [0.827451  ]\n",
      "  [0.4117647 ]\n",
      "  [0.5254902 ]\n",
      "  [0.38039216]\n",
      "  [0.        ]\n",
      "  [0.        ]\n",
      "  [0.        ]\n",
      "  [0.        ]\n",
      "  [0.        ]]\n",
      "\n",
      " [[0.        ]\n",
      "  [0.        ]\n",
      "  [0.        ]\n",
      "  [0.        ]\n",
      "  [0.11372549]\n",
      "  [0.5019608 ]\n",
      "  [0.34509805]\n",
      "  [0.7294118 ]\n",
      "  [0.43529412]\n",
      "  [0.4       ]\n",
      "  [0.33333334]\n",
      "  [0.43137255]\n",
      "  [0.3372549 ]\n",
      "  [0.42352942]\n",
      "  [0.34509805]\n",
      "  [0.36078432]\n",
      "  [0.4117647 ]\n",
      "  [0.3254902 ]\n",
      "  [0.33333334]\n",
      "  [0.64705884]\n",
      "  [0.4862745 ]\n",
      "  [0.4862745 ]\n",
      "  [0.4862745 ]\n",
      "  [0.        ]\n",
      "  [0.        ]\n",
      "  [0.        ]\n",
      "  [0.        ]\n",
      "  [0.        ]]\n",
      "\n",
      " [[0.        ]\n",
      "  [0.        ]\n",
      "  [0.        ]\n",
      "  [0.        ]\n",
      "  [0.09803922]\n",
      "  [0.47058824]\n",
      "  [0.44313726]\n",
      "  [0.6039216 ]\n",
      "  [0.23921569]\n",
      "  [0.36078432]\n",
      "  [0.34901962]\n",
      "  [0.3372549 ]\n",
      "  [0.34117648]\n",
      "  [0.4392157 ]\n",
      "  [0.41960785]\n",
      "  [0.36078432]\n",
      "  [0.29803923]\n",
      "  [0.3529412 ]\n",
      "  [0.28627452]\n",
      "  [0.38039216]\n",
      "  [0.6117647 ]\n",
      "  [0.7176471 ]\n",
      "  [0.40392157]\n",
      "  [0.        ]\n",
      "  [0.        ]\n",
      "  [0.        ]\n",
      "  [0.        ]\n",
      "  [0.        ]]\n",
      "\n",
      " [[0.        ]\n",
      "  [0.        ]\n",
      "  [0.        ]\n",
      "  [0.        ]\n",
      "  [0.02745098]\n",
      "  [0.49411765]\n",
      "  [0.5372549 ]\n",
      "  [0.6666667 ]\n",
      "  [0.21960784]\n",
      "  [0.39215687]\n",
      "  [0.43529412]\n",
      "  [0.3529412 ]\n",
      "  [0.4       ]\n",
      "  [0.35686275]\n",
      "  [0.34901962]\n",
      "  [0.38431373]\n",
      "  [0.27058825]\n",
      "  [0.42352942]\n",
      "  [0.29803923]\n",
      "  [0.3254902 ]\n",
      "  [0.80784315]\n",
      "  [0.46666667]\n",
      "  [0.3647059 ]\n",
      "  [0.        ]\n",
      "  [0.        ]\n",
      "  [0.        ]\n",
      "  [0.        ]\n",
      "  [0.        ]]\n",
      "\n",
      " [[0.        ]\n",
      "  [0.        ]\n",
      "  [0.        ]\n",
      "  [0.        ]\n",
      "  [0.07843138]\n",
      "  [0.49019608]\n",
      "  [0.5137255 ]\n",
      "  [0.627451  ]\n",
      "  [0.21568628]\n",
      "  [0.3882353 ]\n",
      "  [0.44705883]\n",
      "  [0.39607844]\n",
      "  [0.40784314]\n",
      "  [0.43137255]\n",
      "  [0.36078432]\n",
      "  [0.40784314]\n",
      "  [0.29411766]\n",
      "  [0.45882353]\n",
      "  [0.2627451 ]\n",
      "  [0.27058825]\n",
      "  [0.6431373 ]\n",
      "  [0.46666667]\n",
      "  [0.42352942]\n",
      "  [0.        ]\n",
      "  [0.        ]\n",
      "  [0.        ]\n",
      "  [0.        ]\n",
      "  [0.        ]]\n",
      "\n",
      " [[0.        ]\n",
      "  [0.        ]\n",
      "  [0.        ]\n",
      "  [0.        ]\n",
      "  [0.11764706]\n",
      "  [0.41960785]\n",
      "  [0.70980394]\n",
      "  [0.5529412 ]\n",
      "  [0.07843138]\n",
      "  [0.5058824 ]\n",
      "  [0.28627452]\n",
      "  [0.42352942]\n",
      "  [0.28235295]\n",
      "  [0.43137255]\n",
      "  [0.41960785]\n",
      "  [0.36078432]\n",
      "  [0.34509805]\n",
      "  [0.39607844]\n",
      "  [0.22745098]\n",
      "  [0.21568628]\n",
      "  [0.6745098 ]\n",
      "  [0.5372549 ]\n",
      "  [0.4392157 ]\n",
      "  [0.07450981]\n",
      "  [0.        ]\n",
      "  [0.        ]\n",
      "  [0.        ]\n",
      "  [0.        ]]\n",
      "\n",
      " [[0.        ]\n",
      "  [0.        ]\n",
      "  [0.        ]\n",
      "  [0.        ]\n",
      "  [0.10588235]\n",
      "  [0.47058824]\n",
      "  [0.6117647 ]\n",
      "  [0.4       ]\n",
      "  [0.2627451 ]\n",
      "  [0.4392157 ]\n",
      "  [0.3254902 ]\n",
      "  [0.42745098]\n",
      "  [0.30980393]\n",
      "  [0.44313726]\n",
      "  [0.3882353 ]\n",
      "  [0.3647059 ]\n",
      "  [0.38431373]\n",
      "  [0.28627452]\n",
      "  [0.39607844]\n",
      "  [0.14901961]\n",
      "  [0.5294118 ]\n",
      "  [0.5019608 ]\n",
      "  [0.4745098 ]\n",
      "  [0.03137255]\n",
      "  [0.        ]\n",
      "  [0.        ]\n",
      "  [0.        ]\n",
      "  [0.        ]]\n",
      "\n",
      " [[0.        ]\n",
      "  [0.        ]\n",
      "  [0.        ]\n",
      "  [0.        ]\n",
      "  [0.25490198]\n",
      "  [0.4392157 ]\n",
      "  [0.7607843 ]\n",
      "  [0.21568628]\n",
      "  [0.16078432]\n",
      "  [0.38431373]\n",
      "  [0.3254902 ]\n",
      "  [0.4627451 ]\n",
      "  [0.3529412 ]\n",
      "  [0.42745098]\n",
      "  [0.34117648]\n",
      "  [0.36078432]\n",
      "  [0.38039216]\n",
      "  [0.3019608 ]\n",
      "  [0.36862746]\n",
      "  [0.15686275]\n",
      "  [0.5686275 ]\n",
      "  [0.6039216 ]\n",
      "  [0.39215687]\n",
      "  [0.13333334]\n",
      "  [0.        ]\n",
      "  [0.        ]\n",
      "  [0.        ]\n",
      "  [0.        ]]\n",
      "\n",
      " [[0.        ]\n",
      "  [0.        ]\n",
      "  [0.        ]\n",
      "  [0.        ]\n",
      "  [0.2627451 ]\n",
      "  [0.3882353 ]\n",
      "  [0.8156863 ]\n",
      "  [0.20392157]\n",
      "  [0.29803923]\n",
      "  [0.3254902 ]\n",
      "  [0.36862746]\n",
      "  [0.43529412]\n",
      "  [0.34117648]\n",
      "  [0.43137255]\n",
      "  [0.42352942]\n",
      "  [0.3372549 ]\n",
      "  [0.3647059 ]\n",
      "  [0.3647059 ]\n",
      "  [0.36862746]\n",
      "  [0.16862746]\n",
      "  [0.42352942]\n",
      "  [0.654902  ]\n",
      "  [0.3882353 ]\n",
      "  [0.16862746]\n",
      "  [0.        ]\n",
      "  [0.        ]\n",
      "  [0.        ]\n",
      "  [0.        ]]\n",
      "\n",
      " [[0.        ]\n",
      "  [0.        ]\n",
      "  [0.        ]\n",
      "  [0.        ]\n",
      "  [0.27058825]\n",
      "  [0.40392157]\n",
      "  [0.75686276]\n",
      "  [0.26666668]\n",
      "  [0.33333334]\n",
      "  [0.38039216]\n",
      "  [0.45882353]\n",
      "  [0.3254902 ]\n",
      "  [0.35686275]\n",
      "  [0.49019608]\n",
      "  [0.46666667]\n",
      "  [0.3647059 ]\n",
      "  [0.38039216]\n",
      "  [0.38039216]\n",
      "  [0.30588236]\n",
      "  [0.21568628]\n",
      "  [0.14509805]\n",
      "  [0.6       ]\n",
      "  [0.41960785]\n",
      "  [0.13333334]\n",
      "  [0.        ]\n",
      "  [0.        ]\n",
      "  [0.        ]\n",
      "  [0.        ]]\n",
      "\n",
      " [[0.        ]\n",
      "  [0.        ]\n",
      "  [0.        ]\n",
      "  [0.        ]\n",
      "  [0.2627451 ]\n",
      "  [0.3882353 ]\n",
      "  [0.69411767]\n",
      "  [0.22352941]\n",
      "  [0.3529412 ]\n",
      "  [0.3764706 ]\n",
      "  [0.4       ]\n",
      "  [0.28235295]\n",
      "  [0.4       ]\n",
      "  [0.43137255]\n",
      "  [0.29803923]\n",
      "  [0.36078432]\n",
      "  [0.3254902 ]\n",
      "  [0.32156864]\n",
      "  [0.29411766]\n",
      "  [0.3254902 ]\n",
      "  [0.11764706]\n",
      "  [0.627451  ]\n",
      "  [0.29411766]\n",
      "  [0.1764706 ]\n",
      "  [0.        ]\n",
      "  [0.        ]\n",
      "  [0.        ]\n",
      "  [0.        ]]\n",
      "\n",
      " [[0.        ]\n",
      "  [0.        ]\n",
      "  [0.        ]\n",
      "  [0.        ]\n",
      "  [0.27058825]\n",
      "  [0.38039216]\n",
      "  [0.70980394]\n",
      "  [0.24313726]\n",
      "  [0.36862746]\n",
      "  [0.32156864]\n",
      "  [0.42745098]\n",
      "  [0.36078432]\n",
      "  [0.43529412]\n",
      "  [0.43137255]\n",
      "  [0.34901962]\n",
      "  [0.38039216]\n",
      "  [0.3254902 ]\n",
      "  [0.34901962]\n",
      "  [0.30588236]\n",
      "  [0.3764706 ]\n",
      "  [0.3137255 ]\n",
      "  [0.69411767]\n",
      "  [0.27450982]\n",
      "  [0.27450982]\n",
      "  [0.        ]\n",
      "  [0.        ]\n",
      "  [0.        ]\n",
      "  [0.        ]]\n",
      "\n",
      " [[0.        ]\n",
      "  [0.        ]\n",
      "  [0.        ]\n",
      "  [0.        ]\n",
      "  [0.3529412 ]\n",
      "  [0.4509804 ]\n",
      "  [0.9647059 ]\n",
      "  [0.16078432]\n",
      "  [0.3254902 ]\n",
      "  [0.4       ]\n",
      "  [0.3764706 ]\n",
      "  [0.35686275]\n",
      "  [0.3764706 ]\n",
      "  [0.3764706 ]\n",
      "  [0.30588236]\n",
      "  [0.36078432]\n",
      "  [0.34117648]\n",
      "  [0.35686275]\n",
      "  [0.35686275]\n",
      "  [0.38039216]\n",
      "  [0.13333334]\n",
      "  [0.80784315]\n",
      "  [0.29803923]\n",
      "  [0.29411766]\n",
      "  [0.        ]\n",
      "  [0.        ]\n",
      "  [0.        ]\n",
      "  [0.        ]]\n",
      "\n",
      " [[0.        ]\n",
      "  [0.        ]\n",
      "  [0.        ]\n",
      "  [0.        ]\n",
      "  [0.        ]\n",
      "  [0.02352941]\n",
      "  [0.09019608]\n",
      "  [0.        ]\n",
      "  [0.13725491]\n",
      "  [0.26666668]\n",
      "  [0.34117648]\n",
      "  [0.39607844]\n",
      "  [0.43529412]\n",
      "  [0.54509807]\n",
      "  [0.40784314]\n",
      "  [0.42745098]\n",
      "  [0.38431373]\n",
      "  [0.35686275]\n",
      "  [0.3882353 ]\n",
      "  [0.21568628]\n",
      "  [0.        ]\n",
      "  [0.09411765]\n",
      "  [0.05098039]\n",
      "  [0.01568628]\n",
      "  [0.        ]\n",
      "  [0.        ]\n",
      "  [0.        ]\n",
      "  [0.        ]]\n",
      "\n",
      " [[0.        ]\n",
      "  [0.        ]\n",
      "  [0.        ]\n",
      "  [0.        ]\n",
      "  [0.        ]\n",
      "  [0.        ]\n",
      "  [0.        ]\n",
      "  [0.        ]\n",
      "  [0.        ]\n",
      "  [0.        ]\n",
      "  [0.        ]\n",
      "  [0.        ]\n",
      "  [0.        ]\n",
      "  [0.00784314]\n",
      "  [0.        ]\n",
      "  [0.        ]\n",
      "  [0.        ]\n",
      "  [0.        ]\n",
      "  [0.        ]\n",
      "  [0.        ]\n",
      "  [0.        ]\n",
      "  [0.        ]\n",
      "  [0.        ]\n",
      "  [0.        ]\n",
      "  [0.        ]\n",
      "  [0.        ]\n",
      "  [0.        ]\n",
      "  [0.        ]]], shape=(28, 28, 1), dtype=float32)\n",
      "tf.Tensor(6, shape=(), dtype=int64)\n"
     ]
    }
   ],
   "source": [
    "for x, y in train_examples.take(1):\n",
    "    x = tf.math.divide(x, 255)\n",
    "    print(x)\n",
    "    print(y)"
   ]
  },
  {
   "cell_type": "markdown",
   "metadata": {},
   "source": [
    "The class names are not included with the dataset, so we will specify them here."
   ]
  },
  {
   "cell_type": "code",
   "execution_count": 27,
   "metadata": {
    "colab": {},
    "colab_type": "code",
    "id": "-eAv71FRm4JE"
   },
   "outputs": [],
   "source": [
    "class_names = ['T-shirt_top', 'Trouser', 'Pullover', 'Dress', 'Coat',\n",
    "               'Sandal', 'Shirt', 'Sneaker', 'Bag', 'Ankle boot']"
   ]
  },
  {
   "cell_type": "code",
   "execution_count": 28,
   "metadata": {
    "colab": {},
    "colab_type": "code",
    "id": "hXe6jNokqX3_"
   },
   "outputs": [],
   "source": [
    "# Create a labels.txt file with the class names\n",
    "with open('labels.txt', 'w') as f:\n",
    "    f.write('\\n'.join(class_names))"
   ]
  },
  {
   "cell_type": "code",
   "execution_count": 29,
   "metadata": {
    "colab": {},
    "colab_type": "code",
    "id": "iubWCThbdN8K"
   },
   "outputs": [],
   "source": [
    "# The images in the dataset are 28 by 28 pixels.\n",
    "IMG_SIZE = 28"
   ]
  },
  {
   "cell_type": "markdown",
   "metadata": {
    "colab_type": "text",
    "id": "ZAkuq0V0Aw2X"
   },
   "source": [
    "# Preprocessing Data"
   ]
  },
  {
   "cell_type": "markdown",
   "metadata": {
    "colab_type": "text",
    "id": "_5SIivkunKCC"
   },
   "source": [
    "## Preprocess"
   ]
  },
  {
   "cell_type": "code",
   "execution_count": 38,
   "metadata": {},
   "outputs": [],
   "source": [
    "# EXERCISE: Write a function to normalize the images.\n",
    "\n",
    "def format_example(image, label):\n",
    "    # Cast image to float32\n",
    "    image = tf.dtypes.cast(image, tf.float32)\n",
    "        \n",
    "    # Normalize the image in the range [0, 1]\n",
    "    image = tf.math.divide(image, 255)\n",
    "    \n",
    "    return image, label"
   ]
  },
  {
   "cell_type": "code",
   "execution_count": 39,
   "metadata": {
    "colab": {},
    "colab_type": "code",
    "id": "HAlBlXOUMwqe"
   },
   "outputs": [],
   "source": [
    "# Specify the batch size\n",
    "BATCH_SIZE = 256"
   ]
  },
  {
   "cell_type": "markdown",
   "metadata": {
    "colab_type": "text",
    "id": "JM4HfIJtnNEk"
   },
   "source": [
    "## Create Datasets From Images and Labels"
   ]
  },
  {
   "cell_type": "code",
   "execution_count": 40,
   "metadata": {},
   "outputs": [],
   "source": [
    "# Create Datasets\n",
    "train_batches = train_examples.cache().shuffle(num_examples//4).batch(BATCH_SIZE).map(format_example).prefetch(1)\n",
    "validation_batches = validation_examples.cache().batch(BATCH_SIZE).map(format_example)\n",
    "test_batches = test_examples.map(format_example).batch(1)"
   ]
  },
  {
   "cell_type": "code",
   "execution_count": 45,
   "metadata": {},
   "outputs": [
    {
     "name": "stdout",
     "output_type": "stream",
     "text": [
      "(256, 28, 28, 1)\n",
      "(256,)\n"
     ]
    }
   ],
   "source": [
    "for x, y in train_batches:\n",
    "    print(x.shape)\n",
    "    print(y.shape)\n",
    "    break"
   ]
  },
  {
   "cell_type": "markdown",
   "metadata": {
    "colab_type": "text",
    "id": "M-topQaOm_LM"
   },
   "source": [
    "# Building the Model"
   ]
  },
  {
   "cell_type": "markdown",
   "metadata": {},
   "source": [
    "```\n",
    "Model: \"sequential\"\n",
    "_________________________________________________________________\n",
    "Layer (type)                 Output Shape              Param #   \n",
    "=================================================================\n",
    "conv2d (Conv2D)              (None, 26, 26, 16)        160       \n",
    "_________________________________________________________________\n",
    "max_pooling2d (MaxPooling2D) (None, 13, 13, 16)        0         \n",
    "_________________________________________________________________\n",
    "conv2d_1 (Conv2D)            (None, 11, 11, 32)        4640      \n",
    "_________________________________________________________________\n",
    "flatten (Flatten)            (None, 3872)              0         \n",
    "_________________________________________________________________\n",
    "dense (Dense)                (None, 64)                247872    \n",
    "_________________________________________________________________\n",
    "dense_1 (Dense)              (None, 10)                650       \n",
    "=================================================================\n",
    "Total params: 253,322\n",
    "Trainable params: 253,322\n",
    "Non-trainable params: 0\n",
    "```"
   ]
  },
  {
   "cell_type": "code",
   "execution_count": 52,
   "metadata": {},
   "outputs": [],
   "source": [
    "# EXERCISE: Build and compile the model shown in the previous cell.\n",
    "\n",
    "model = tf.keras.Sequential([\n",
    "    # Set the input shape to (28, 28, 1), kernel size=3, filters=16 and use ReLU activation,\n",
    "    tf.keras.layers.Conv2D(filters=16, kernel_size=(3, 3), activation='relu'),\n",
    "    \n",
    "    tf.keras.layers.MaxPooling2D(pool_size=(2,2)),\n",
    "    \n",
    "    # Set the number of filters to 32, kernel size to 3 and use ReLU activation \n",
    "    tf.keras.layers.Conv2D(filters=32, kernel_size=(3, 3), activation='relu'),\n",
    "    \n",
    "    # Flatten the output layer to 1 dimension\n",
    "    tf.keras.layers.Flatten(),\n",
    "      \n",
    "    # Add a fully connected layer with 64 hidden units and ReLU activation\n",
    "    tf.keras.layers.Dense(64, activation='relu'),\n",
    "      \n",
    "    # Attach a final softmax classification head\n",
    "    tf.keras.layers.Dense(1, activation='softmax')])\n",
    "\n",
    "# Set the appropriate loss function and use accuracy as your metric\n",
    "model.compile(optimizer='adam',\n",
    "              loss='categorical_crossentropy',\n",
    "              metrics=['accuracy'])"
   ]
  },
  {
   "cell_type": "markdown",
   "metadata": {
    "colab_type": "text",
    "id": "zEMOz-LDnxgD"
   },
   "source": [
    "## Train"
   ]
  },
  {
   "cell_type": "code",
   "execution_count": 54,
   "metadata": {
    "colab": {},
    "colab_type": "code",
    "id": "JGlNoRtzCP4_"
   },
   "outputs": [
    {
     "name": "stdout",
     "output_type": "stream",
     "text": [
      "Epoch 1/10\n",
      "219/219 [==============================] - 41s 188ms/step - loss: 0.0000e+00 - accuracy: 0.1001 - val_loss: 0.0000e+00 - val_accuracy: 0.0000e+00/step - loss: 0.0000e+00 - accuracy:  - 10s 60ms/step - loss: 0.0000e+00 - accuracy: 0.09 - 10s 60ms/step - loss: 0.0000e+00 - acc - 10s 57ms/step - loss: 0.0000e+00 - accuracy: 0. - 10s 56ms/step\n",
      "Epoch 2/10\n",
      "219/219 [==============================] - 4s 18ms/step - loss: 0.0000e+00 - accuracy: 0.1001 - val_loss: 0.0000e+00 - val_accuracy: 0.1003\n",
      "Epoch 3/10\n",
      "219/219 [==============================] - 4s 18ms/step - loss: 0.0000e+00 - accuracy: 0.1001 - val_loss: 0.0000e+00 - val_accuracy: 0.1003\n",
      "Epoch 4/10\n",
      "219/219 [==============================] - 4s 17ms/step - loss: 0.0000e+00 - accuracy: 0.1001 - val_loss: 0.0000e+00 - val_accuracy: 0.1003\n",
      "Epoch 5/10\n",
      "219/219 [==============================] - 4s 18ms/step - loss: 0.0000e+00 - accuracy: 0.1001 - val_loss: 0.0000e+00 - val_accuracy: 0.1003\n",
      "Epoch 6/10\n",
      "219/219 [==============================] - 4s 17ms/step - loss: 0.0000e+00 - accuracy: 0.1001 - val_loss: 0.0000e+00 - val_accuracy: 0.1003\n",
      "Epoch 7/10\n",
      "219/219 [==============================] - 4s 18ms/step - loss: 0.0000e+00 - accuracy: 0.1001 - val_loss: 0.0000e+00 - val_accuracy: 0.1003\n",
      "Epoch 8/10\n",
      "219/219 [==============================] - 4s 17ms/step - loss: 0.0000e+00 - accuracy: 0.1001 - val_loss: 0.0000e+00 - val_accuracy: 0.1003\n",
      "Epoch 9/10\n",
      "219/219 [==============================] - 4s 18ms/step - loss: 0.0000e+00 - accuracy: 0.1001 - val_loss: 0.0000e+00 - val_accuracy: 0.1003\n",
      "Epoch 10/10\n",
      "219/219 [==============================] - 4s 18ms/step - loss: 0.0000e+00 - accuracy: 0.1001 - val_loss: 0.0000e+00 - val_accuracy: 0.1003\n"
     ]
    }
   ],
   "source": [
    "history = model.fit(train_batches, epochs=10, validation_data=validation_batches)"
   ]
  },
  {
   "cell_type": "code",
   "execution_count": 55,
   "metadata": {},
   "outputs": [
    {
     "name": "stdout",
     "output_type": "stream",
     "text": [
      "Model: \"sequential_2\"\n",
      "_________________________________________________________________\n",
      "Layer (type)                 Output Shape              Param #   \n",
      "=================================================================\n",
      "conv2d_4 (Conv2D)            multiple                  160       \n",
      "_________________________________________________________________\n",
      "max_pooling2d_2 (MaxPooling2 multiple                  0         \n",
      "_________________________________________________________________\n",
      "conv2d_5 (Conv2D)            multiple                  4640      \n",
      "_________________________________________________________________\n",
      "flatten_2 (Flatten)          multiple                  0         \n",
      "_________________________________________________________________\n",
      "dense_4 (Dense)              multiple                  247872    \n",
      "_________________________________________________________________\n",
      "dense_5 (Dense)              multiple                  65        \n",
      "=================================================================\n",
      "Total params: 252,737\n",
      "Trainable params: 252,737\n",
      "Non-trainable params: 0\n",
      "_________________________________________________________________\n"
     ]
    }
   ],
   "source": [
    "model.summary()"
   ]
  },
  {
   "cell_type": "markdown",
   "metadata": {
    "colab_type": "text",
    "id": "TZT9-7w9n4YO"
   },
   "source": [
    "# Exporting to TFLite\n",
    "\n",
    "You will now save the model to TFLite. We should note, that you will probably see some warning messages when running the code below. These warnings have to do with software updates and should not cause any errors or prevent your code from running. "
   ]
  },
  {
   "cell_type": "code",
   "execution_count": 56,
   "metadata": {},
   "outputs": [
    {
     "name": "stdout",
     "output_type": "stream",
     "text": [
      "WARNING:tensorflow:From /usr/local/lib/python3.6/dist-packages/tensorflow_core/python/ops/resource_variable_ops.py:1781: calling BaseResourceVariable.__init__ (from tensorflow.python.ops.resource_variable_ops) with constraint is deprecated and will be removed in a future version.\n",
      "Instructions for updating:\n",
      "If using Keras pass *_constraint arguments to layers.\n"
     ]
    },
    {
     "name": "stderr",
     "output_type": "stream",
     "text": [
      "WARNING:tensorflow:From /usr/local/lib/python3.6/dist-packages/tensorflow_core/python/ops/resource_variable_ops.py:1781: calling BaseResourceVariable.__init__ (from tensorflow.python.ops.resource_variable_ops) with constraint is deprecated and will be removed in a future version.\n",
      "Instructions for updating:\n",
      "If using Keras pass *_constraint arguments to layers.\n"
     ]
    },
    {
     "name": "stdout",
     "output_type": "stream",
     "text": [
      "INFO:tensorflow:Assets written to: saved_model/1/assets\n"
     ]
    },
    {
     "name": "stderr",
     "output_type": "stream",
     "text": [
      "INFO:tensorflow:Assets written to: saved_model/1/assets\n"
     ]
    }
   ],
   "source": [
    "# EXERCISE: Use the tf.saved_model API to save your model in the SavedModel format. \n",
    "export_dir = 'saved_model/1'\n",
    "\n",
    "# YOUR CODE HERE\n",
    "tf.saved_model.save(model, export_dir)"
   ]
  },
  {
   "cell_type": "code",
   "execution_count": 57,
   "metadata": {},
   "outputs": [
    {
     "name": "stdout",
     "output_type": "stream",
     "text": [
      "The given SavedModel SignatureDef contains the following input(s):\r\n",
      "  inputs['input_1'] tensor_info:\r\n",
      "      dtype: DT_FLOAT\r\n",
      "      shape: (-1, 28, 28, 1)\r\n",
      "      name: serving_default_input_1:0\r\n",
      "The given SavedModel SignatureDef contains the following output(s):\r\n",
      "  outputs['output_1'] tensor_info:\r\n",
      "      dtype: DT_FLOAT\r\n",
      "      shape: (-1, 1)\r\n",
      "      name: StatefulPartitionedCall:0\r\n",
      "Method name is: tensorflow/serving/predict\r\n"
     ]
    }
   ],
   "source": [
    "! saved_model_cli show --dir saved_model/1 --tag_set serve --signature_def serving_default"
   ]
  },
  {
   "cell_type": "code",
   "execution_count": 58,
   "metadata": {
    "cellView": "form",
    "colab": {},
    "colab_type": "code",
    "id": "EDGiYrBdE6fl"
   },
   "outputs": [],
   "source": [
    "# Select mode of optimization\n",
    "mode = \"Speed\" \n",
    "\n",
    "if mode == 'Storage':\n",
    "    optimization = tf.lite.Optimize.OPTIMIZE_FOR_SIZE\n",
    "elif mode == 'Speed':\n",
    "    optimization = tf.lite.Optimize.OPTIMIZE_FOR_LATENCY\n",
    "else:\n",
    "    optimization = tf.lite.Optimize.DEFAULT"
   ]
  },
  {
   "cell_type": "code",
   "execution_count": 62,
   "metadata": {},
   "outputs": [],
   "source": [
    "# EXERCISE: Use the TFLiteConverter SavedModel API to initialize the converter\n",
    "\n",
    "converter = tf.lite.TFLiteConverter.from_saved_model(export_dir)\n",
    "\n",
    "# Set the optimzations\n",
    "converter.optimizations = [optimization]\n",
    "\n",
    "# Invoke the converter to finally generate the TFLite model\n",
    "tflite_model = converter.convert()"
   ]
  },
  {
   "cell_type": "code",
   "execution_count": 63,
   "metadata": {
    "colab": {
     "base_uri": "https://localhost:8080/",
     "height": 34
    },
    "colab_type": "code",
    "id": "q5PWCDsTC3El",
    "outputId": "97349e68-0bff-41cd-ad48-90a6abb85f11"
   },
   "outputs": [
    {
     "data": {
      "text/plain": [
       "256352"
      ]
     },
     "execution_count": 63,
     "metadata": {},
     "output_type": "execute_result"
    }
   ],
   "source": [
    "tflite_model_file = pathlib.Path('./model.tflite')\n",
    "tflite_model_file.write_bytes(tflite_model)"
   ]
  },
  {
   "cell_type": "markdown",
   "metadata": {
    "colab_type": "text",
    "id": "SR6wFcQ1Fglm"
   },
   "source": [
    "# Test the Model with TFLite Interpreter "
   ]
  },
  {
   "cell_type": "code",
   "execution_count": 64,
   "metadata": {
    "colab": {},
    "colab_type": "code",
    "id": "rKcToCBEC-Bu"
   },
   "outputs": [],
   "source": [
    "# Load TFLite model and allocate tensors.\n",
    "interpreter = tf.lite.Interpreter(model_content=tflite_model)\n",
    "interpreter.allocate_tensors()\n",
    "\n",
    "input_index = interpreter.get_input_details()[0][\"index\"]\n",
    "output_index = interpreter.get_output_details()[0][\"index\"]"
   ]
  },
  {
   "cell_type": "code",
   "execution_count": 73,
   "metadata": {},
   "outputs": [
    {
     "data": {
      "text/plain": [
       "[{'name': 'input_1',\n",
       "  'index': 14,\n",
       "  'shape': array([ 1, 28, 28,  1], dtype=int32),\n",
       "  'dtype': numpy.float32,\n",
       "  'quantization': (0.0, 0)}]"
      ]
     },
     "execution_count": 73,
     "metadata": {},
     "output_type": "execute_result"
    }
   ],
   "source": [
    "interpreter.get_input_details()"
   ]
  },
  {
   "cell_type": "code",
   "execution_count": 65,
   "metadata": {
    "colab": {},
    "colab_type": "code",
    "id": "E8EpFpIBFkq8"
   },
   "outputs": [],
   "source": [
    "# Gather results for the randomly sampled test images\n",
    "predictions = []\n",
    "test_labels = []\n",
    "test_images = []\n",
    "\n",
    "for img, label in test_batches.take(50):\n",
    "    interpreter.set_tensor(input_index, img)\n",
    "    interpreter.invoke()\n",
    "    predictions.append(interpreter.get_tensor(output_index))\n",
    "    test_labels.append(label[0])\n",
    "    test_images.append(np.array(img))\n",
    "    break"
   ]
  },
  {
   "cell_type": "code",
   "execution_count": 66,
   "metadata": {
    "cellView": "form",
    "colab": {},
    "colab_type": "code",
    "id": "kSjTmi05Tyod"
   },
   "outputs": [],
   "source": [
    "# Utilities functions for plotting\n",
    "\n",
    "def plot_image(i, predictions_array, true_label, img):\n",
    "    predictions_array, true_label, img = predictions_array[i], true_label[i], img[i]\n",
    "    plt.grid(False)\n",
    "    plt.xticks([])\n",
    "    plt.yticks([])\n",
    "    \n",
    "    img = np.squeeze(img)\n",
    "    \n",
    "    plt.imshow(img, cmap=plt.cm.binary)\n",
    "    \n",
    "    predicted_label = np.argmax(predictions_array)\n",
    "    \n",
    "    if predicted_label == true_label.numpy():\n",
    "        color = 'green'\n",
    "    else:\n",
    "        color = 'red'\n",
    "        \n",
    "    plt.xlabel(\"{} {:2.0f}% ({})\".format(class_names[predicted_label],\n",
    "                                         100*np.max(predictions_array),\n",
    "                                         class_names[true_label]),\n",
    "                                         color=color)\n",
    "\n",
    "def plot_value_array(i, predictions_array, true_label):\n",
    "    predictions_array, true_label = predictions_array[i], true_label[i]\n",
    "    plt.grid(False)\n",
    "    plt.xticks(list(range(10)))\n",
    "    plt.yticks([])\n",
    "    thisplot = plt.bar(range(10), predictions_array[0], color=\"#777777\")\n",
    "    plt.ylim([0, 1])\n",
    "    predicted_label = np.argmax(predictions_array[0])\n",
    "    \n",
    "    thisplot[predicted_label].set_color('red')\n",
    "    thisplot[true_label].set_color('blue')"
   ]
  },
  {
   "cell_type": "code",
   "execution_count": 67,
   "metadata": {
    "cellView": "form",
    "colab": {
     "base_uri": "https://localhost:8080/",
     "height": 201
    },
    "colab_type": "code",
    "id": "ZZwg0wFaVXhZ",
    "outputId": "f9676edc-f305-4115-938b-389286d2228d"
   },
   "outputs": [
    {
     "data": {
      "image/png": "[encoded data removed]",
      "text/plain": [
       "<Figure size 432x216 with 2 Axes>"
      ]
     },
     "metadata": {
      "needs_background": "light"
     },
     "output_type": "display_data"
    }
   ],
   "source": [
    "# Visualize the outputs\n",
    "\n",
    "# Select index of image to display. Minimum index value is 1 and max index value is 50. \n",
    "index = 49 \n",
    "\n",
    "plt.figure(figsize=(6,3))\n",
    "plt.subplot(1,2,1)\n",
    "plot_image(index, predictions, test_labels, test_images)\n",
    "plt.subplot(1,2,2)\n",
    "plot_value_array(index, predictions, test_labels)\n",
    "plt.show()"
   ]
  },
  {
   "cell_type": "markdown",
   "metadata": {},
   "source": [
    "# Click the Submit Assignment Button Above\n",
    "\n",
    "You should now click the Submit Assignment button above to submit your notebook for grading. Once you have submitted your assignment, you can continue with the optinal section below. \n",
    "\n",
    "## If you are done, please **don't forget to run the last two cells of this notebook** to save your work and close the Notebook to free up resources for your fellow learners. "
   ]
  },
  {
   "cell_type": "markdown",
   "metadata": {
    "colab_type": "text",
    "id": "H8t7_jRiz9Vw"
   },
   "source": [
    "# Prepare the Test Images for Download (Optional)"
   ]
  },
  {
   "cell_type": "code",
   "execution_count": null,
   "metadata": {
    "colab": {},
    "colab_type": "code",
    "id": "Fi09nIps0gBu"
   },
   "outputs": [],
   "source": [
    "!mkdir -p test_images"
   ]
  },
  {
   "cell_type": "code",
   "execution_count": null,
   "metadata": {
    "colab": {},
    "colab_type": "code",
    "id": "sF7EZ63J0hZs"
   },
   "outputs": [],
   "source": [
    "from PIL import Image\n",
    "\n",
    "for index, (image, label) in enumerate(test_batches.take(50)):\n",
    "    image = tf.cast(image * 255.0, tf.uint8)\n",
    "    image = tf.squeeze(image).numpy()\n",
    "    pil_image = Image.fromarray(image)\n",
    "    pil_image.save('test_images/{}_{}.jpg'.format(class_names[label[0]].lower(), index))"
   ]
  },
  {
   "cell_type": "code",
   "execution_count": null,
   "metadata": {
    "colab": {},
    "colab_type": "code",
    "id": "uM35O-uv0iWS"
   },
   "outputs": [],
   "source": [
    "!ls test_images"
   ]
  },
  {
   "cell_type": "code",
   "execution_count": null,
   "metadata": {
    "colab": {},
    "colab_type": "code",
    "id": "aR20r4qW0jVm"
   },
   "outputs": [],
   "source": [
    "!tar --create --file=fmnist_test_images.tar test_images"
   ]
  },
  {
   "cell_type": "code",
   "execution_count": null,
   "metadata": {},
   "outputs": [],
   "source": [
    "!ls"
   ]
  },
  {
   "cell_type": "markdown",
   "metadata": {},
   "source": [
    "# When you're done/would like to take a break, please run the two cells below to save your work and close the Notebook. This frees up resources for your fellow learners."
   ]
  },
  {
   "cell_type": "code",
   "execution_count": null,
   "metadata": {},
   "outputs": [],
   "source": [
    "%%javascript\n",
    "<!-- Save the notebook -->\n",
    "IPython.notebook.save_checkpoint();"
   ]
  },
  {
   "cell_type": "code",
   "execution_count": null,
   "metadata": {},
   "outputs": [],
   "source": [
    "%%javascript\n",
    "<!-- Shutdown and close the notebook -->\n",
    "window.onbeforeunload = null\n",
    "window.close();\n",
    "IPython.notebook.session.delete();"
   ]
  }
 ],
 "metadata": {
  "accelerator": "GPU",
  "colab": {
   "collapsed_sections": [],
   "name": "TF Lite Week 1 Exercise - Answer",
   "provenance": [],
   "toc_visible": true,
   "version": "0.3.2"
  },
  "coursera": {
   "course_slug": "device-based-models-tensorflow",
   "graded_item_id": "sCFzO",
   "launcher_item_id": "fJyaf"
  },
  "kernelspec": {
   "display_name": "Python 3",
   "language": "python",
   "name": "python3"
  },
  "language_info": {
   "codemirror_mode": {
    "name": "ipython",
    "version": 3
   },
   "file_extension": ".py",
   "mimetype": "text/x-python",
   "name": "python",
   "nbconvert_exporter": "python",
   "pygments_lexer": "ipython3",
   "version": "3.6.8"
  }
 },
 "nbformat": 4,
 "nbformat_minor": 1
}
